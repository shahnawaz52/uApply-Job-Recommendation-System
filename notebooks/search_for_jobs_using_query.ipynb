{
 "cells": [
  {
   "cell_type": "code",
   "execution_count": 21,
   "metadata": {},
   "outputs": [],
   "source": [
    "import pandas as pd\n",
    "import numpy as np\n",
    "import os\n",
    "from datasets import load_dataset\n",
    "from scipy.spatial.distance import cosine\n",
    "from transformers import AutoTokenizer, AutoModel"
   ]
  },
  {
   "cell_type": "code",
   "execution_count": 8,
   "metadata": {},
   "outputs": [
    {
     "name": "stderr",
     "output_type": "stream",
     "text": [
      "Generating train split: 33246 examples [00:07, 4241.67 examples/s]\n"
     ]
    }
   ],
   "source": [
    "current_directory = os.path.dirname(os.path.abspath(\"__file__\"))\n",
    "project_root = os.path.abspath(os.path.join(current_directory, '..'))\n",
    "job_posting = os.path.join(project_root, 'src', 'data', 'job_posting_description_cleaned.csv')\n",
    "job_posting = load_dataset(\"csv\", data_files=job_posting)"
   ]
  },
  {
   "cell_type": "code",
   "execution_count": 9,
   "metadata": {},
   "outputs": [
    {
     "data": {
      "text/plain": [
       "{'job_id': [3757940104, 3757940025],\n",
       " 'company_id': [553718, 2192142],\n",
       " 'company_name': ['HearingLife', 'Metalcraft of Mayville, Inc.'],\n",
       " 'title': ['Hearing Care Provider',\n",
       "  'Shipping & Receiving Associate 2nd shift (Beaver Dam)'],\n",
       " 'description': ['Overview\\n\\nHearingLife is a national hearing care company and part of the Demant Group, a global leader in hearing healthcare built on a heritage of care, health, and innovation since 1904. HearingLife operates more than 600 hearing care centers across 42 states. We follow a scientific, results-oriented approach to hearing healthcare that is provided by highly skilled and caring professionals. Our vision is to help more people hear better through life-changing hearing health delivered by the best personalized care. This Team Member must uphold the HearingLife Core Values:\\n\\n We create trust  We are team players  We apply a can-do attitude  We create innovative solutions \\n\\nResponsibilities\\n\\nYou will help more people hear better by providing clinical expertise to diagnose and treat hearing loss while ensuring a positive patient experience. The Hearing Care Provider acts in accordance with required industry and state professional licensing standards and local practice scope and is responsible for growing and maintaining the practice. This includes achieving all financial goals as well as offering best in class modern hearing healthcare assessment and treatment. The Hearing Care Provider is responsible for creating an exceptional patient journey through patient care and appropriate treatment options.\\n\\n Provide quality care and aftercare of dispensing services such as hearing tests, hearing aid fittings, educate and train hearing aid users of best practices.  Perform checks on hearing aids and other amplification devices including but not limited to troubleshooting, conducting repairs to hearing aids, earmolds and cleaning of hearing aids.  Achieves growth with a strong mindset on sales and key business metrics while focusing on providing quality patient care.  Continuously develop a relationship with local community leaders by representing HearingLife as an advocate to making a life changing difference.  Ensure clinic inventory meets a sustainable level to drive business including accurate recordkeeping of inventory.  Support Telehealth initiatives (Remote Care) to expand patient care and product portfolio including but not limited conducting hearing tests, coach and educate patients on hearing aid devices. \\n\\nQualifications\\n\\n Maintain an active Hearing Aid Dispensing License in accordance with state requirements.  A minimum of two years of professional experience; previous experience in selling hearing aids in an Audiology/dispensing practice. In lieu of two years of experience, demonstrated previous experience or training or equivalent combination of education and experience.  Maintain continuing education requirements based on state requirements.  Ability to operate audiometric equipment and to interpret the results.  Exceptional critical thinking skills to analyze patient’s situation.  Excellent interpersonal skills to engage and motivate patients and third parties.  Skill in handling sensitive matters and patients with tact, courtesy, and discretion.  Demonstrated ability to manage multiple tasks efficiently, including determining priorities, organizing work, and working independently in a fast-paced environment.  Ability to communicate test results and interpret and propose treatment in a manner easily understood by patients. \\n\\n🌴 Unwind with Paid Time Off: We value work-life balance. Enjoy company-paid holidays, floating holidays, and more!\\n\\n💼 Flexible Work Dynamics: Experience the future of work with numerous hybrid and remote opportunities tailored for the modern professional.\\n\\n🌟 Comprehensive Health Benefits: Choose from a diverse range of health insurance plans covering medical, dental, vision, and HSA. Your well-being is our priority.\\n\\n💰 Invest in Your Future: With our competitive 401(k) Program, your future looks bright.\\n\\n🎁 Exclusive Discounts & Programs: Get special discounts on our products, including hearing aids, for both family and possibly friends. Plus, take advantage of our Employee and Family Purchase Hearing Aid program.\\n\\n🚀 Boundless Growth Opportunities\\n\\n DMIT Program: Dive deep into management insights.  Apprentice Program: Learn from the best in the field.  Amplify Leadership Program: Get one-on-one guidance and real-world exposure to grow and excel as a Leader. \\n\\n❤️ A Thriving, Positive Environment: We live our C ore V alues : We C reate T rust, W e are T eam P layers, W e A pply a C an- D o A ttitude and We C reate I nnovative S olutions.\\n\\n📚 Empower Your Ambitions: Avail up to $5250 annually with our Education Expense Reimbursement. Keep learning, keep growing!\\n\\n🤝 Refer & Earn: Know someone perfect for the team? Our Team Member Referral Program rewards you with up to $3500 per hire, depending on the role.\\n\\n🛡️ Protection for the Unexpected: Enjoy peace of mind with our basic life and AD&D insurance, as well as short-term disability insurance.\\n\\nCome be part of a team where every day brings new challenges, learning, and the opportunity to make a difference. Join us!\\n\\nWe are an Equal Opportunity / Affirmative Action employer, all qualified applicants will receive consideration for employment\\n\\nwithout regard to race, color, religion, sexual orientation, sex, national origin, disability, or protected veteran status.\\n\\n#HearingLife_US\\n\\n',\n",
       "  'Metalcraft of Mayville\\nMetalcraft of Mayville is an Equal Opportunity Employer:Minorities/females/veterans/individuals with disabilities/sexual orientation/gender identity\\nShipping & Receiving Associate 2nd shift (Beaver Dam)\\nUS-WI-Beaver Dam\\nJob ID: 2023-3251\\nType: Regular Full-Time\\n# of Openings: 1\\nCategory: Manufacturing\\nMetalcraft of Mayville (Beaver Dam)\\nOverview\\nUnder the direction of Shipping/Receiving Supervisor, this position packs and prepares customer orders for shipping, receives material and equipment, and loads and unloads trucks according to established procedures and shipping regulations, meeting customer delivery requirements. Assigned daily details where needed within the shipping and receiving department.\\n \\n2nd Shift Opening\\nResponsibilities\\nUse of material handling dollies, forklifts, and other material moving equipment for unload/load of inbound/outbound freight. Opens boxes and inspects contents of inbound materials. Checks supplier shipping invoice to ensure all items are accounted for. Maintains quality records and requirements of all inbound/outbound processed materials. Communicates directly with Metalcraft purchasing department personnel to resolve inbound receipt discrepancies. Stores, restocks, and shelves delivery items on shop floor as necessary. Processes location transfers for inbound materials moving on to another shop floor location. Reports all major or unresolved inbound receipt delays or issues to manager. Ensure compliance with corporate and plant safety standards.Complete and maintain all required paperwork. Maintain departmental housekeeping standards. Other duties as assigned.\\nQualifications\\n\\nEducation and/or Experience2+ years previous inbound/outbound logistics experience in a manufacturing environment with longevity of working for one company a must.Fluency reading, writing and speaking English. Sharp attention to details. Ability to efficiently work in a team and coordinate work with other departments. Aptitude to take orders and execute the same efficiently.High school degree, diploma or a GED equivalent qualification from an accredited institution. Demonstrated detail orientation, self-motivation skills and ability to multi-task.Strong basic math skills.Previous forklift experience.Exposure to a fast paced Lean manufacturing environment\\n \\nPI232449725'],\n",
       " 'max_salary': [None, None],\n",
       " 'med_salary': [5250.0, None],\n",
       " 'min_salary': [None, None],\n",
       " 'pay_period': ['MONTHLY', None],\n",
       " 'formatted_work_type': ['Full-time', 'Full-time'],\n",
       " 'location': ['Little River, SC', 'Beaver Dam, WI'],\n",
       " 'applies': [None, None],\n",
       " 'original_listed_time': [1699090000000.0, 1699080000000.0],\n",
       " 'remote_allowed': [None, None],\n",
       " 'views': [9.0, None],\n",
       " 'job_posting_url': ['https://www.linkedin.com/jobs/view/3757940104/?trk=jobs_biz_prem_srch',\n",
       "  'https://www.linkedin.com/jobs/view/3757940025/?trk=jobs_biz_prem_srch'],\n",
       " 'application_url': ['https://careers-demant.icims.com/jobs/19601/hearing-care-provider/job',\n",
       "  'https://www.click2apply.net/mXLQz5S5NEYEXsKjwHRdYq'],\n",
       " 'application_type': ['OffsiteApply', 'OffsiteApply'],\n",
       " 'expiry': [1701680000000.0, 1701680000000.0],\n",
       " 'closed_time': [None, None],\n",
       " 'formatted_experience_level': ['Entry level', None],\n",
       " 'skills_desc': [None, None],\n",
       " 'listed_time': [1699090000000.0, 1699080000000.0],\n",
       " 'posting_domain': ['careers-demant.icims.com', 'www.click2apply.net'],\n",
       " 'sponsored': [0, 0],\n",
       " 'work_type': ['FULL_TIME', 'FULL_TIME'],\n",
       " 'currency': ['USD', None],\n",
       " 'compensation_type': ['BASE_SALARY', None],\n",
       " 'scraped': [1699138101, 1699085420],\n",
       " 'company_speciality': ['Digital Hearing Instruments, behind ear, in ear, open ear, audiologist, hearing tests, hearing aid fittings, supplies, discount hearing aids, hearing protection',\n",
       "  'Metal Fabrication, Machining, Robotic Welding, Engineering, Forming and Piercing, Laser, plasma and contour cutting, Painting and finishing, Logistics'],\n",
       " 'company_industry': ['Medical Equipment Manufacturing',\n",
       "  'Industrial Machinery Manufacturing'],\n",
       " 'company_description': ['HearingLife\\\\u202fis a national hearing care company and part of the Demant Group, a\\\\xa0global leader in hearing healthcare\\\\xa0built\\\\xa0on a heritage of care, health and innovation since 1904.\\\\u202f HearingLife \\\\u202foperates more than 650 hearing care centers across 42 states.\\\\xa0We follow a scientific, results-oriented approach to hearing healthcare that\\\\u202fis provided by\\\\u202fhighly skilled\\\\u202fand caring professionals.\\\\xa0Our vision is to help more people hear better through life changing hearing health delivered by the best personalized care.',\n",
       "  'Headquartered in Mayville, Wisconsin, Metalcraft of Mayville Inc. (MOM) has become a leading metal fabricator and manufacturer for customers across the US. MOM, an ISO 9001:2015 registered and NADCAP certified company, is comprised of four divisions – contract manufacturing for large OEM’s, Scag Power Equipment, Metalcraft Automation Group, and Versatran Trucks. MOM currently has seven facilities operating in southern Wisconsin and employs over 1,000 office and production staff. MOM’s footprint includes - four heavy metal manufacturing plants, located in Mayville, West Bend, Beaver Dam, and Fall River, WI; two plants focusing on automation, located in New Berlin and West Bend, WI; and its truck division, located in Watertown, WI. '],\n",
       " 'linkedin_url': ['https://www.linkedin.com/company/hearing-life',\n",
       "  'https://www.linkedin.com/company/metalcraft-of-mayville'],\n",
       " 'job_skills': ['Other', 'Management, Manufacturing'],\n",
       " 'description_cleaned': ['overviewhearinglife hearing care part demant group global leader hearing healthcare built heritage care health innovation since hearinglife operates hearing care center across state follow scientific resultsoriented approach hearing healthcare provided highly skilled caring professional vision help people hear better lifechanging hearing health delivered best personalized care member must uphold hearinglife core value create trust player apply cando attitude create innovative solution responsibilitiesyou help people hear better providing clinical expertise diagnose treat hearing loss ensuring positive patient hearing care provider act accordance industry state professional licensing standard local practice scope responsible growing maintaining practice includes achieving financial goal well offering best class modern hearing healthcare assessment treatment hearing care provider responsible creating exceptional patient journey patient care appropriate treatment option provide quality care aftercare dispensing service hearing test hearing aid fitting educate train hearing aid user best practice perform check hearing aid amplification device limited troubleshooting conducting repair hearing aid earmolds cleaning hearing aid achieves growth strong mindset sale key business metric focusing providing quality patient care continuously develop relationship local community leader representing hearinglife advocate making life changing difference ensure clinic inventory meet sustainable level drive business accurate recordkeeping inventory support telehealth initiative remote care expand patient care product portfolio limited conducting hearing test coach educate patient hearing aid device maintain active hearing aid dispensing license accordance state minimum two professional previous selling hearing aid audiologydispensing practice lieu two demonstrated previous training equivalent combination education maintain continuing education based state ability operate audiometric equipment interpret result exceptional critical thinking skill analyze patient situation excellent interpersonal skill engage motivate patient third party skill handling sensitive matter patient tact courtesy discretion demonstrated ability manage multiple task efficiently determining priority organizing independently fastpaced environment ability communicate test result interpret propose treatment manner easily understood patient unwind paid time value worklife balance enjoy companypaid holiday floating holiday flexible dynamic future numerous hybrid remote tailored modern professional comprehensive health choose diverse range health insurance plan covering medical dental vision hsa wellbeing priority invest future competitive k program future look bright exclusive discount program get special discount product hearing aid family possibly friend plus take advantage family purchase hearing aid program boundless growth dmit program dive deep management insight apprentice program learn best field amplify leadership program get oneonone guidance realworld exposure grow excel leader thriving positive environment live c ore v alues c reate rust w e eam p layer w e pply c ttitude c reate nnovative olutions empower ambition avail annually education expense reimbursement keep learning keep growing🤝 refer earn know someone perfect member referral program reward per hire depending protection unexpected enjoy peace mind basic life add insurance well shortterm insurancecome part every day brings new challenge learning make difference join uswe equal affirmative action qualified receive consideration employmentwithout origin protected statushearinglifeus',\n",
       "  'metalcraft mayvillemetalcraft mayville equal employerminoritiesfemalesveteransindividuals disabilitiessexual orientationgender identityshipping receiving associate nd shift beaver damuswibeaver damjob id type regular fulltime opening category manufacturingmetalcraft mayville beaver damoverviewunder direction shippingreceiving supervisor pack prepares customer order shipping receives material equipment load unloads truck according established procedure shipping regulation meeting customer delivery assigned daily detail needed within shipping receiving nd shift openingresponsibilitiesuse material handling dolly forklift material moving equipment unloadload inboundoutbound freight open box inspects content inbound material check supplier shipping invoice ensure item accounted maintains quality record inboundoutbound processed material communicates directly metalcraft purchasing personnel resolve inbound receipt discrepancy store restocks shelf delivery item shop floor necessary process transfer inbound material moving another shop floor major unresolved inbound receipt delay issue manager ensure compliance corporate plant safety standardscomplete maintain paperwork maintain departmental housekeeping standard assignedqualificationseducation andor previous inboundoutbound logistics manufacturing environment longevity one mustfluency reading writing speaking english sharp attention detail ability efficiently coordinate aptitude take order execute efficientlyhigh school degree diploma ged equivalent accredited institution demonstrated detail selfmotivation skill ability multitaskstrong basic math skillsprevious forklift experienceexposure fast paced lean manufacturing environment pi'],\n",
       " 'description_cleaned_st': ['overviewhearinglife is a national hearing care company and part of the demant group a global leader in hearing healthcare built on a heritage of care health and innovation since hearinglife operates more than hearing care center across state we follow a scientific resultsoriented approach to hearing healthcare that is provided by highly skilled and caring professional our vision is to help more people hear better through lifechanging hearing health delivered by the best personalized care this team member must uphold the hearinglife core value we create trust we are team player we apply a cando attitude we create innovative solution responsibilitiesyou will help more people hear better by providing clinical expertise to diagnose and treat hearing loss while ensuring a positive patient experience the hearing care provider act in accordance with required industry and state professional licensing standard and local practice scope and is responsible for growing and maintaining the practice this includes achieving all financial goal a well a offering best in class modern hearing healthcare assessment and treatment the hearing care provider is responsible for creating an exceptional patient journey through patient care and appropriate treatment option provide quality care and aftercare of dispensing service such a hearing test hearing aid fitting educate and train hearing aid user of best practice perform check on hearing aid and other amplification device including but not limited to troubleshooting conducting repair to hearing aid earmolds and cleaning of hearing aid achieves growth with a strong mindset on sale and key business metric while focusing on providing quality patient care continuously develop a relationship with local community leader by representing hearinglife a an advocate to making a life changing difference ensure clinic inventory meet a sustainable level to drive business including accurate recordkeeping of inventory support telehealth initiative remote care to expand patient care and product portfolio including but not limited conducting hearing test coach and educate patient on hearing aid device qualification maintain an active hearing aid dispensing license in accordance with state requirement a minimum of two year of professional experience previous experience in selling hearing aid in an audiologydispensing practice in lieu of two year of experience demonstrated previous experience or training or equivalent combination of education and experience maintain continuing education requirement based on state requirement ability to operate audiometric equipment and to interpret the result exceptional critical thinking skill to analyze patient situation excellent interpersonal skill to engage and motivate patient and third party skill in handling sensitive matter and patient with tact courtesy and discretion demonstrated ability to manage multiple task efficiently including determining priority organizing work and working independently in a fastpaced environment ability to communicate test result and interpret and propose treatment in a manner easily understood by patient unwind with paid time off we value worklife balance enjoy companypaid holiday floating holiday and more flexible work dynamic experience the future of work with numerous hybrid and remote opportunity tailored for the modern professional comprehensive health benefit choose from a diverse range of health insurance plan covering medical dental vision and hsa your wellbeing is our priority invest in your future with our competitive k program your future look bright exclusive discount program get special discount on our product including hearing aid for both family and possibly friend plus take advantage of our employee and family purchase hearing aid program boundless growth opportunity dmit program dive deep into management insight apprentice program learn from the best in the field amplify leadership program get oneonone guidance and realworld exposure to grow and excel a a leader a thriving positive environment we live our c ore v alues we c reate t rust w e are t eam p layer w e a pply a c an d o a ttitude and we c reate i nnovative s olutions empower your ambition avail up to annually with our education expense reimbursement keep learning keep growing🤝 refer earn know someone perfect for the team our team member referral program reward you with up to per hire depending on the role protection for the unexpected enjoy peace of mind with our basic life and add insurance a well a shortterm disability insurancecome be part of a team where every day brings new challenge learning and the opportunity to make a difference join uswe are an equal opportunity affirmative action employer all qualified applicant will receive consideration for employmentwithout regard to race color religion sexual orientation sex national origin disability or protected veteran statushearinglifeus',\n",
       "  'metalcraft of mayvillemetalcraft of mayville is an equal opportunity employerminoritiesfemalesveteransindividuals with disabilitiessexual orientationgender identityshipping receiving associate nd shift beaver damuswibeaver damjob id type regular fulltime of opening category manufacturingmetalcraft of mayville beaver damoverviewunder the direction of shippingreceiving supervisor this position pack and prepares customer order for shipping receives material and equipment and load and unloads truck according to established procedure and shipping regulation meeting customer delivery requirement assigned daily detail where needed within the shipping and receiving department nd shift openingresponsibilitiesuse of material handling dolly forklift and other material moving equipment for unloadload of inboundoutbound freight open box and inspects content of inbound material check supplier shipping invoice to ensure all item are accounted for maintains quality record and requirement of all inboundoutbound processed material communicates directly with metalcraft purchasing department personnel to resolve inbound receipt discrepancy store restocks and shelf delivery item on shop floor a necessary process location transfer for inbound material moving on to another shop floor location report all major or unresolved inbound receipt delay or issue to manager ensure compliance with corporate and plant safety standardscomplete and maintain all required paperwork maintain departmental housekeeping standard other duty a assignedqualificationseducation andor experience year previous inboundoutbound logistics experience in a manufacturing environment with longevity of working for one company a mustfluency reading writing and speaking english sharp attention to detail ability to efficiently work in a team and coordinate work with other department aptitude to take order and execute the same efficientlyhigh school degree diploma or a ged equivalent qualification from an accredited institution demonstrated detail orientation selfmotivation skill and ability to multitaskstrong basic math skillsprevious forklift experienceexposure to a fast paced lean manufacturing environment pi']}"
      ]
     },
     "execution_count": 9,
     "metadata": {},
     "output_type": "execute_result"
    }
   ],
   "source": [
    "job_posting['train'][:2]"
   ]
  },
  {
   "cell_type": "code",
   "execution_count": 11,
   "metadata": {},
   "outputs": [],
   "source": [
    "model_ckpt = \"BAAI/bge-large-en\" # can choose different checkpoint for sentence similarity \"https://huggingface.co/models?pipeline_tag=sentence-similarity\"\n",
    "tokenizer = AutoTokenizer.from_pretrained(model_ckpt)\n",
    "model = AutoModel.from_pretrained(model_ckpt)"
   ]
  },
  {
   "cell_type": "code",
   "execution_count": 12,
   "metadata": {},
   "outputs": [
    {
     "name": "stdout",
     "output_type": "stream",
     "text": [
      "Using CPU\n"
     ]
    }
   ],
   "source": [
    "import torch\n",
    "\n",
    "try:\n",
    "    device = torch.device(\"cuda\")\n",
    "    model.to(device)\n",
    "    print(\"Using CUDA\")\n",
    "except Exception as e:\n",
    "    device = torch.device(\"cpu\")\n",
    "    model.to(device)\n",
    "    print(\"Using CPU\")"
   ]
  },
  {
   "cell_type": "code",
   "execution_count": 13,
   "metadata": {},
   "outputs": [],
   "source": [
    "# get embedding by pooling the output of last later\n",
    "def cls_pooling(model_output):\n",
    "    return model_output.last_hidden_state[:, 0]"
   ]
  },
  {
   "cell_type": "code",
   "execution_count": 14,
   "metadata": {},
   "outputs": [],
   "source": [
    "def get_embeddings(job_listing):\n",
    "    encoded_input = tokenizer(\n",
    "        job_listing[\"description_cleaned\"], padding=True, truncation=True, return_tensors=\"pt\"\n",
    "    )\n",
    "    encoded_input = {k: v.to(device) for k, v in encoded_input.items()}\n",
    "    model_output = model(**encoded_input)\n",
    "    return cls_pooling(model_output)"
   ]
  },
  {
   "cell_type": "code",
   "execution_count": 15,
   "metadata": {},
   "outputs": [
    {
     "data": {
      "text/plain": [
       "torch.Size([1, 1024])"
      ]
     },
     "execution_count": 15,
     "metadata": {},
     "output_type": "execute_result"
    }
   ],
   "source": [
    "## Test against a sinlge row\n",
    "embedding = get_embeddings(job_posting[\"train\"][0])\n",
    "embedding.shape"
   ]
  },
  {
   "cell_type": "code",
   "execution_count": 16,
   "metadata": {},
   "outputs": [
    {
     "data": {
      "text/plain": [
       "DatasetDict({\n",
       "    train: Dataset({\n",
       "        features: ['job_id', 'company_id', 'company_name', 'title', 'description', 'max_salary', 'med_salary', 'min_salary', 'pay_period', 'formatted_work_type', 'location', 'applies', 'original_listed_time', 'remote_allowed', 'views', 'job_posting_url', 'application_url', 'application_type', 'expiry', 'closed_time', 'formatted_experience_level', 'skills_desc', 'listed_time', 'posting_domain', 'sponsored', 'work_type', 'currency', 'compensation_type', 'scraped', 'company_speciality', 'company_industry', 'company_description', 'linkedin_url', 'job_skills', 'description_cleaned', 'description_cleaned_st'],\n",
       "        num_rows: 32913\n",
       "    })\n",
       "    validation: Dataset({\n",
       "        features: ['job_id', 'company_id', 'company_name', 'title', 'description', 'max_salary', 'med_salary', 'min_salary', 'pay_period', 'formatted_work_type', 'location', 'applies', 'original_listed_time', 'remote_allowed', 'views', 'job_posting_url', 'application_url', 'application_type', 'expiry', 'closed_time', 'formatted_experience_level', 'skills_desc', 'listed_time', 'posting_domain', 'sponsored', 'work_type', 'currency', 'compensation_type', 'scraped', 'company_speciality', 'company_industry', 'company_description', 'linkedin_url', 'job_skills', 'description_cleaned', 'description_cleaned_st'],\n",
       "        num_rows: 333\n",
       "    })\n",
       "})"
      ]
     },
     "execution_count": 16,
     "metadata": {},
     "output_type": "execute_result"
    }
   ],
   "source": [
    "job_posting_splited = job_posting[\"train\"].train_test_split(train_size=0.99, seed=42)\n",
    "# Rename the default \"test\" split to \"validation\"\n",
    "job_posting_splited[\"validation\"] = job_posting_splited.pop(\"test\")\n",
    "# Add the \"test\" set to our `DatasetDict`\n",
    "job_posting_splited"
   ]
  },
  {
   "cell_type": "code",
   "execution_count": 17,
   "metadata": {},
   "outputs": [
    {
     "name": "stderr",
     "output_type": "stream",
     "text": [
      "Map: 100%|██████████| 333/333 [13:34<00:00,  2.44s/ examples]\n"
     ]
    }
   ],
   "source": [
    "embeddings_dataset = job_posting_splited[\"validation\"].map(\n",
    "    lambda x: {\"embeddings\": get_embeddings(x).detach().cpu().numpy()[0]}\n",
    ")"
   ]
  },
  {
   "cell_type": "code",
   "execution_count": 18,
   "metadata": {},
   "outputs": [
    {
     "data": {
      "text/plain": [
       "Dataset({\n",
       "    features: ['job_id', 'company_id', 'company_name', 'title', 'description', 'max_salary', 'med_salary', 'min_salary', 'pay_period', 'formatted_work_type', 'location', 'applies', 'original_listed_time', 'remote_allowed', 'views', 'job_posting_url', 'application_url', 'application_type', 'expiry', 'closed_time', 'formatted_experience_level', 'skills_desc', 'listed_time', 'posting_domain', 'sponsored', 'work_type', 'currency', 'compensation_type', 'scraped', 'company_speciality', 'company_industry', 'company_description', 'linkedin_url', 'job_skills', 'description_cleaned', 'description_cleaned_st', 'embeddings'],\n",
       "    num_rows: 333\n",
       "})"
      ]
     },
     "execution_count": 18,
     "metadata": {},
     "output_type": "execute_result"
    }
   ],
   "source": [
    "embeddings_dataset"
   ]
  },
  {
   "cell_type": "code",
   "execution_count": 19,
   "metadata": {},
   "outputs": [],
   "source": [
    "def search_jobs(search_query, embeddings = embeddings_dataset[\"embeddings\"], k=5):\n",
    "    # embedding search query\n",
    "    question = {\"description_cleaned\": search_query} # similar to the job description from our validation set\n",
    "    question_embedding = get_embeddings(question).cpu().detach().numpy()\n",
    "    #\n",
    "    # finding similari embeddings\n",
    "    similarity_scores = list()\n",
    "    for e in embeddings:\n",
    "        similarity = 1 - cosine(question_embedding[0], e)\n",
    "        similarity_scores.append(similarity)\n",
    "    similarity_scores = np.array(similarity_scores)\n",
    "    ranks = np.argsort(similarity_scores)\n",
    "    ranks = ranks[::-1] # revers\n",
    "    return ranks[:k]"
   ]
  },
  {
   "cell_type": "code",
   "execution_count": 25,
   "metadata": {},
   "outputs": [
    {
     "data": {
      "text/plain": [
       "array([121, 200,  11,  42, 298], dtype=int64)"
      ]
     },
     "execution_count": 25,
     "metadata": {},
     "output_type": "execute_result"
    }
   ],
   "source": [
    "# santiy checck\n",
    "ranks = search_jobs(\"I am looking for Software Engineer jobs.\", k=5)\n",
    "ranks"
   ]
  },
  {
   "cell_type": "code",
   "execution_count": 26,
   "metadata": {},
   "outputs": [],
   "source": [
    "embeddings_dataset.set_format(\"pandas\")"
   ]
  },
  {
   "cell_type": "code",
   "execution_count": 27,
   "metadata": {},
   "outputs": [
    {
     "data": {
      "text/html": [
       "<div>\n",
       "<style scoped>\n",
       "    .dataframe tbody tr th:only-of-type {\n",
       "        vertical-align: middle;\n",
       "    }\n",
       "\n",
       "    .dataframe tbody tr th {\n",
       "        vertical-align: top;\n",
       "    }\n",
       "\n",
       "    .dataframe thead th {\n",
       "        text-align: right;\n",
       "    }\n",
       "</style>\n",
       "<table border=\"1\" class=\"dataframe\">\n",
       "  <thead>\n",
       "    <tr style=\"text-align: right;\">\n",
       "      <th></th>\n",
       "      <th>job_id</th>\n",
       "      <th>company_id</th>\n",
       "      <th>company_name</th>\n",
       "      <th>title</th>\n",
       "      <th>description</th>\n",
       "      <th>max_salary</th>\n",
       "      <th>med_salary</th>\n",
       "      <th>min_salary</th>\n",
       "      <th>pay_period</th>\n",
       "      <th>formatted_work_type</th>\n",
       "      <th>location</th>\n",
       "      <th>applies</th>\n",
       "      <th>original_listed_time</th>\n",
       "      <th>remote_allowed</th>\n",
       "      <th>views</th>\n",
       "      <th>job_posting_url</th>\n",
       "      <th>application_url</th>\n",
       "      <th>application_type</th>\n",
       "      <th>expiry</th>\n",
       "      <th>closed_time</th>\n",
       "      <th>formatted_experience_level</th>\n",
       "      <th>skills_desc</th>\n",
       "      <th>listed_time</th>\n",
       "      <th>posting_domain</th>\n",
       "      <th>sponsored</th>\n",
       "      <th>work_type</th>\n",
       "      <th>currency</th>\n",
       "      <th>compensation_type</th>\n",
       "      <th>scraped</th>\n",
       "      <th>company_speciality</th>\n",
       "      <th>company_industry</th>\n",
       "      <th>company_description</th>\n",
       "      <th>linkedin_url</th>\n",
       "      <th>job_skills</th>\n",
       "      <th>description_cleaned</th>\n",
       "      <th>description_cleaned_st</th>\n",
       "      <th>embeddings</th>\n",
       "    </tr>\n",
       "  </thead>\n",
       "  <tbody>\n",
       "    <tr>\n",
       "      <th>121</th>\n",
       "      <td>3756108480</td>\n",
       "      <td>1441</td>\n",
       "      <td>Google</td>\n",
       "      <td>Software Engineering Manager II, Machine Learn...</td>\n",
       "      <td>Minimum qualifications:\\n\\nBachelor's degree o...</td>\n",
       "      <td>283000.0</td>\n",
       "      <td>NaN</td>\n",
       "      <td>185000.0</td>\n",
       "      <td>YEARLY</td>\n",
       "      <td>Full-time</td>\n",
       "      <td>Sunnyvale, CA</td>\n",
       "      <td>5.0</td>\n",
       "      <td>1.699050e+12</td>\n",
       "      <td>NaN</td>\n",
       "      <td>74.0</td>\n",
       "      <td>https://www.linkedin.com/jobs/view/3756108480/...</td>\n",
       "      <td>https://careers.google.com/jobs/results/136997...</td>\n",
       "      <td>OffsiteApply</td>\n",
       "      <td>1.701640e+12</td>\n",
       "      <td>NaN</td>\n",
       "      <td>None</td>\n",
       "      <td>None</td>\n",
       "      <td>1.699050e+12</td>\n",
       "      <td>careers.google.com</td>\n",
       "      <td>0</td>\n",
       "      <td>FULL_TIME</td>\n",
       "      <td>USD</td>\n",
       "      <td>BASE_SALARY</td>\n",
       "      <td>1699135697</td>\n",
       "      <td>search, ads, mobile, android, online video, ap...</td>\n",
       "      <td>Information Services, Technology, Information ...</td>\n",
       "      <td>\"A problem isnt truly solved until its solved ...</td>\n",
       "      <td>https://www.linkedin.com/company/google</td>\n",
       "      <td>Information Technology, Engineering</td>\n",
       "      <td>minimum qualificationsbachelors degree equival...</td>\n",
       "      <td>minimum qualificationsbachelors degree or equi...</td>\n",
       "      <td>[0.015125895, -0.3616033, -0.36311126, -0.1834...</td>\n",
       "    </tr>\n",
       "    <tr>\n",
       "      <th>200</th>\n",
       "      <td>3757493445</td>\n",
       "      <td>71939</td>\n",
       "      <td>Zenex Partners</td>\n",
       "      <td>Software Engineer</td>\n",
       "      <td>A great opportunity to work with one of our le...</td>\n",
       "      <td>75.0</td>\n",
       "      <td>NaN</td>\n",
       "      <td>73.0</td>\n",
       "      <td>HOURLY</td>\n",
       "      <td>Contract</td>\n",
       "      <td>United States</td>\n",
       "      <td>63.0</td>\n",
       "      <td>1.699050e+12</td>\n",
       "      <td>1.0</td>\n",
       "      <td>156.0</td>\n",
       "      <td>https://www.linkedin.com/jobs/view/3757493445/...</td>\n",
       "      <td>None</td>\n",
       "      <td>ComplexOnsiteApply</td>\n",
       "      <td>1.701640e+12</td>\n",
       "      <td>NaN</td>\n",
       "      <td>Mid-Senior level</td>\n",
       "      <td>None</td>\n",
       "      <td>1.699050e+12</td>\n",
       "      <td>None</td>\n",
       "      <td>0</td>\n",
       "      <td>CONTRACT</td>\n",
       "      <td>USD</td>\n",
       "      <td>BASE_SALARY</td>\n",
       "      <td>1699057868</td>\n",
       "      <td>Administrative &amp; HR, Engineering &amp; Technicians...</td>\n",
       "      <td>Travel Arrangements, Software Development, Com...</td>\n",
       "      <td>Zenex Partners was founded with the mission of...</td>\n",
       "      <td>https://www.linkedin.com/company/zenexpartners</td>\n",
       "      <td>Engineering, Information Technology, Other</td>\n",
       "      <td>great one leading clientssoftware engineerloca...</td>\n",
       "      <td>a great opportunity to work with one of our le...</td>\n",
       "      <td>[-0.19375668, -0.327315, -0.9283604, -0.184070...</td>\n",
       "    </tr>\n",
       "    <tr>\n",
       "      <th>11</th>\n",
       "      <td>3755559192</td>\n",
       "      <td>75483</td>\n",
       "      <td>IT Trailblazers LLC</td>\n",
       "      <td>Biztalk Developer with .Net</td>\n",
       "      <td>HI Hope you are doing well!I have an urgent re...</td>\n",
       "      <td>NaN</td>\n",
       "      <td>NaN</td>\n",
       "      <td>NaN</td>\n",
       "      <td>None</td>\n",
       "      <td>Contract</td>\n",
       "      <td>United States</td>\n",
       "      <td>51.0</td>\n",
       "      <td>1.699040e+12</td>\n",
       "      <td>1.0</td>\n",
       "      <td>176.0</td>\n",
       "      <td>https://www.linkedin.com/jobs/view/3755559192/...</td>\n",
       "      <td>None</td>\n",
       "      <td>ComplexOnsiteApply</td>\n",
       "      <td>1.701630e+12</td>\n",
       "      <td>NaN</td>\n",
       "      <td>None</td>\n",
       "      <td>None</td>\n",
       "      <td>1.699040e+12</td>\n",
       "      <td>None</td>\n",
       "      <td>0</td>\n",
       "      <td>CONTRACT</td>\n",
       "      <td>None</td>\n",
       "      <td>None</td>\n",
       "      <td>1699138776</td>\n",
       "      <td>Solution | Content Management | iOS Developmen...</td>\n",
       "      <td>IT Services and IT Consulting</td>\n",
       "      <td>Each and everything we do (professional servic...</td>\n",
       "      <td>https://www.linkedin.com/company/it-trailblazers</td>\n",
       "      <td>Engineering, Information Technology</td>\n",
       "      <td>hi hope welli urgent one client please find de...</td>\n",
       "      <td>hi hope you are doing welli have an urgent req...</td>\n",
       "      <td>[0.31549743, -0.07778397, -0.83485055, -0.0395...</td>\n",
       "    </tr>\n",
       "    <tr>\n",
       "      <th>42</th>\n",
       "      <td>3699416230</td>\n",
       "      <td>343453</td>\n",
       "      <td>Acumen, LLC</td>\n",
       "      <td>Front-End Application Developer III (Multiple ...</td>\n",
       "      <td>Burlingame, CA and various unanticipated locat...</td>\n",
       "      <td>188310.0</td>\n",
       "      <td>NaN</td>\n",
       "      <td>183310.0</td>\n",
       "      <td>YEARLY</td>\n",
       "      <td>Full-time</td>\n",
       "      <td>Los Angeles, CA</td>\n",
       "      <td>4.0</td>\n",
       "      <td>1.692850e+12</td>\n",
       "      <td>NaN</td>\n",
       "      <td>32.0</td>\n",
       "      <td>https://www.linkedin.com/jobs/view/3699416230/...</td>\n",
       "      <td>https://jobs.lever.co/acumenllc/87b51417-d863-...</td>\n",
       "      <td>OffsiteApply</td>\n",
       "      <td>1.695440e+12</td>\n",
       "      <td>NaN</td>\n",
       "      <td>Mid-Senior level</td>\n",
       "      <td>None</td>\n",
       "      <td>1.692850e+12</td>\n",
       "      <td>jobs.lever.co</td>\n",
       "      <td>0</td>\n",
       "      <td>FULL_TIME</td>\n",
       "      <td>USD</td>\n",
       "      <td>BASE_SALARY</td>\n",
       "      <td>1</td>\n",
       "      <td>Healthcare Policy, Medicare/Medicaid Data, Eco...</td>\n",
       "      <td>Public Policy Offices</td>\n",
       "      <td>Acumen, LLC works to improve the information p...</td>\n",
       "      <td>https://www.linkedin.com/company/acumen-llc</td>\n",
       "      <td>Engineering, Information Technology</td>\n",
       "      <td>burlingame ca various unanticipated throughout...</td>\n",
       "      <td>burlingame ca and various unanticipated locati...</td>\n",
       "      <td>[-0.35318315, -0.37763858, -0.8076201, -0.2217...</td>\n",
       "    </tr>\n",
       "    <tr>\n",
       "      <th>298</th>\n",
       "      <td>3749350300</td>\n",
       "      <td>107854</td>\n",
       "      <td>Dover Corporation</td>\n",
       "      <td>Senior Software Engineer</td>\n",
       "      <td>Job Title: Senior Software EngineerDepartment:...</td>\n",
       "      <td>140000.0</td>\n",
       "      <td>NaN</td>\n",
       "      <td>110000.0</td>\n",
       "      <td>YEARLY</td>\n",
       "      <td>Full-time</td>\n",
       "      <td>Austin, Texas Metropolitan Area</td>\n",
       "      <td>4.0</td>\n",
       "      <td>1.699040e+12</td>\n",
       "      <td>NaN</td>\n",
       "      <td>24.0</td>\n",
       "      <td>https://www.linkedin.com/jobs/view/3749350300/...</td>\n",
       "      <td>None</td>\n",
       "      <td>ComplexOnsiteApply</td>\n",
       "      <td>1.701630e+12</td>\n",
       "      <td>NaN</td>\n",
       "      <td>Associate</td>\n",
       "      <td>None</td>\n",
       "      <td>1.699040e+12</td>\n",
       "      <td>None</td>\n",
       "      <td>0</td>\n",
       "      <td>FULL_TIME</td>\n",
       "      <td>USD</td>\n",
       "      <td>BASE_SALARY</td>\n",
       "      <td>1699041423</td>\n",
       "      <td>Fluids, Engineered Systems, Refrigeration &amp; Fo...</td>\n",
       "      <td>Machinery Manufacturing</td>\n",
       "      <td>Dover is a diversified global manufacturer and...</td>\n",
       "      <td>https://www.linkedin.com/company/dovercorp</td>\n",
       "      <td>Engineering, Information Technology</td>\n",
       "      <td>title senior software engineerdepartment solut...</td>\n",
       "      <td>job title senior software engineerdepartment s...</td>\n",
       "      <td>[-0.047677077, -0.30189654, -0.44335032, -0.07...</td>\n",
       "    </tr>\n",
       "  </tbody>\n",
       "</table>\n",
       "</div>"
      ],
      "text/plain": [
       "         job_id  ...                                         embeddings\n",
       "121  3756108480  ...  [0.015125895, -0.3616033, -0.36311126, -0.1834...\n",
       "200  3757493445  ...  [-0.19375668, -0.327315, -0.9283604, -0.184070...\n",
       "11   3755559192  ...  [0.31549743, -0.07778397, -0.83485055, -0.0395...\n",
       "42   3699416230  ...  [-0.35318315, -0.37763858, -0.8076201, -0.2217...\n",
       "298  3749350300  ...  [-0.047677077, -0.30189654, -0.44335032, -0.07...\n",
       "\n",
       "[5 rows x 37 columns]"
      ]
     },
     "execution_count": 27,
     "metadata": {},
     "output_type": "execute_result"
    }
   ],
   "source": [
    "embeddings_dataset[:].iloc[ranks]"
   ]
  },
  {
   "cell_type": "code",
   "execution_count": null,
   "metadata": {},
   "outputs": [],
   "source": []
  }
 ],
 "metadata": {
  "kernelspec": {
   "display_name": "myenv",
   "language": "python",
   "name": "python3"
  },
  "language_info": {
   "codemirror_mode": {
    "name": "ipython",
    "version": 3
   },
   "file_extension": ".py",
   "mimetype": "text/x-python",
   "name": "python",
   "nbconvert_exporter": "python",
   "pygments_lexer": "ipython3",
   "version": "3.12.0"
  }
 },
 "nbformat": 4,
 "nbformat_minor": 2
}
